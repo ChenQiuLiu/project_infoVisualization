{
 "cells": [
  {
   "cell_type": "code",
   "execution_count": 2,
   "metadata": {},
   "outputs": [],
   "source": [
    "import pandas as pd\n",
    "import numpy as np\n",
    "import matplotlib.pyplot as plt\n",
    "import copy"
   ]
  },
  {
   "cell_type": "code",
   "execution_count": 3,
   "metadata": {},
   "outputs": [],
   "source": [
    "df = pd.read_csv(\"./project1_dataset.csv\")\n",
    "df = df.loc[:,['predict_energy(J)','no_datapoints','no_features','datatype','algorithm','RQ']]"
   ]
  },
  {
   "cell_type": "code",
   "execution_count": 4,
   "metadata": {},
   "outputs": [],
   "source": [
    "def load_data():\n",
    "    path = input(\"Please input the file path\")\n",
    "    df = pd.read_csv(path)\n",
    "    df = df.loc[:,['predict_energy(J)','no_datapoints','no_features','datatype','algorithm','RQ']]\n",
    "    return df"
   ]
  },
  {
   "cell_type": "code",
   "execution_count": 5,
   "metadata": {},
   "outputs": [],
   "source": [
    "def conbine_different_iterition(df):\n",
    "    columns_dict = dict(zip([i+1 for i in range(len(df.columns))],df.columns))\n",
    "    print(columns_dict)\n",
    "    y_choice = columns_dict[int(input(\"Please input the number of the y column(In this question, the number of predict_energy(J)): \\n\"))] # choose the columns\n",
    "    groupby_list = list(df.columns)\n",
    "    groupby_list.remove(y_choice)\n",
    "    iterition_group = df.groupby(groupby_list)[y_choice]\n",
    "    mean_iterition = iterition_group.mean()\n",
    "    var_iterition = iterition_group.var()\n",
    "    mean_iterition_df = mean_iterition.add_suffix(\"\").reset_index()\n",
    "    mean_iterition_df.rename(columns={'predict_energy(J)':'predict_energy(J)_mean'},inplace=True) # This can't be reuse\n",
    "    var_iterition_df = var_iterition.add_suffix(\"\").reset_index()\n",
    "    var_iterition_df.rename(columns={'predict_energy(J)':'predict_energy(J)_var'},inplace=True)\n",
    "    clean_data = pd.concat([mean_iterition_df,var_iterition_df['predict_energy(J)_var']],axis=1)\n",
    "    return clean_data"
   ]
  },
  {
   "cell_type": "code",
   "execution_count": 6,
   "metadata": {},
   "outputs": [],
   "source": [
    "def choose_to_show(clean_data):\n",
    "    RQ_dict = {\n",
    "        2.1:'size_impact',\n",
    "        2.2:'features_impact',\n",
    "        2.3:'datatype_impact'\n",
    "    }   \n",
    "    columns_dict = dict(zip([i+1 for i in range(len(clean_data.columns))],clean_data.columns))\n",
    "    print(columns_dict)\n",
    "    y_choice =  'RQ' # columns_dict[int(input(\"Please input the number of the class column: \"))] # RQ\n",
    "    columns_list = list(clean_data.columns)\n",
    "    group_data = clean_data.groupby(y_choice)\n",
    "    print(RQ_dict)\n",
    "    class_choice = input('Choose the class you want to know: ')\n",
    "    get_data = group_data.get_group(class_choice)\n",
    "    columns_list.remove('algorithm')\n",
    "    columns_list.remove(y_choice)\n",
    "    get_data_group = get_data.groupby(['algorithm'])[columns_list]\n",
    "    algorithm_list = get_data['algorithm'].unique()\n",
    "    algorithm_dict = dict(zip([i+1 for i in range(len(algorithm_list))],algorithm_list))\n",
    "    print(algorithm_dict)\n",
    "    algorithm_choice = algorithm_dict[int(input(\"Please input the num of the algorithm you want to check\"))]\n",
    "    return algorithm_choice,get_data_group.get_group(algorithm_choice)"
   ]
  },
  {
   "cell_type": "code",
   "execution_count": null,
   "metadata": {},
   "outputs": [],
   "source": []
  },
  {
   "cell_type": "code",
   "execution_count": 7,
   "metadata": {},
   "outputs": [],
   "source": [
    "def main():\n",
    "    df = load_data() # \"E:/项目数据集/project1_dataset.csv\"\n",
    "    clean_data = conbine_different_iterition(df)\n",
    "    algorithm_choice,data = choose_to_show(clean_data)\n",
    "    print(algorithm_choice)\n",
    "    print(data)"
   ]
  },
  {
   "cell_type": "code",
   "execution_count": null,
   "metadata": {},
   "outputs": [],
   "source": [
    "main()"
   ]
  },
  {
   "cell_type": "markdown",
   "metadata": {},
   "source": []
  }
 ],
 "metadata": {
  "kernelspec": {
   "display_name": "Python 3",
   "language": "python",
   "name": "python3"
  },
  "language_info": {
   "codemirror_mode": {
    "name": "ipython",
    "version": 3
   },
   "file_extension": ".py",
   "mimetype": "text/x-python",
   "name": "python",
   "nbconvert_exporter": "python",
   "pygments_lexer": "ipython3",
   "version": "3.7.9"
  },
  "toc": {
   "base_numbering": 1,
   "nav_menu": {},
   "number_sections": true,
   "sideBar": true,
   "skip_h1_title": false,
   "title_cell": "Table of Contents",
   "title_sidebar": "Contents",
   "toc_cell": false,
   "toc_position": {},
   "toc_section_display": true,
   "toc_window_display": false
  }
 },
 "nbformat": 4,
 "nbformat_minor": 4
}
