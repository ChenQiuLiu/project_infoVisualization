{
 "cells": [
  {
   "cell_type": "code",
   "execution_count": 28,
   "metadata": {},
   "outputs": [],
   "source": [
    "#Data sets are placed in the same folder path.\n",
    "import matplotlib.pyplot as plt\n",
    "plt.rcParams['font.sans-serif'] = 'STXihei'\n",
    "import numpy as np\n",
    "import pandas as pd"
   ]
  },
  {
   "cell_type": "markdown",
   "metadata": {},
   "source": [
    "# Data initialization"
   ]
  },
  {
   "cell_type": "raw",
   "metadata": {},
   "source": [
    "  number       mearning\n",
    "  \n",
    "   1          I dislike them them a lot\n",
    "   2          I dislike them\n",
    "   3          Neutrals and Don't Know\n",
    "   4          I like them\n",
    "   5          I like them a lot"
   ]
  },
  {
   "cell_type": "code",
   "execution_count": 29,
   "metadata": {},
   "outputs": [
    {
     "data": {
      "text/html": [
       "<div>\n",
       "<style scoped>\n",
       "    .dataframe tbody tr th:only-of-type {\n",
       "        vertical-align: middle;\n",
       "    }\n",
       "\n",
       "    .dataframe tbody tr th {\n",
       "        vertical-align: top;\n",
       "    }\n",
       "\n",
       "    .dataframe thead th {\n",
       "        text-align: right;\n",
       "    }\n",
       "</style>\n",
       "<table border=\"1\" class=\"dataframe\">\n",
       "  <thead>\n",
       "    <tr style=\"text-align: right;\">\n",
       "      <th></th>\n",
       "      <th>Bounty</th>\n",
       "      <th>Snickers</th>\n",
       "      <th>Milky Way</th>\n",
       "      <th>Mars</th>\n",
       "      <th>Galaxy Caramel</th>\n",
       "      <th>Twix</th>\n",
       "      <th>Galaxy</th>\n",
       "      <th>Maltesers Teaser</th>\n",
       "    </tr>\n",
       "  </thead>\n",
       "  <tbody>\n",
       "    <tr>\n",
       "      <th>0</th>\n",
       "      <td>1</td>\n",
       "      <td>4</td>\n",
       "      <td>5</td>\n",
       "      <td>4</td>\n",
       "      <td>5</td>\n",
       "      <td>3</td>\n",
       "      <td>4</td>\n",
       "      <td>4</td>\n",
       "    </tr>\n",
       "    <tr>\n",
       "      <th>1</th>\n",
       "      <td>3</td>\n",
       "      <td>4</td>\n",
       "      <td>4</td>\n",
       "      <td>5</td>\n",
       "      <td>4</td>\n",
       "      <td>4</td>\n",
       "      <td>4</td>\n",
       "      <td>5</td>\n",
       "    </tr>\n",
       "    <tr>\n",
       "      <th>2</th>\n",
       "      <td>5</td>\n",
       "      <td>5</td>\n",
       "      <td>5</td>\n",
       "      <td>4</td>\n",
       "      <td>4</td>\n",
       "      <td>3</td>\n",
       "      <td>5</td>\n",
       "      <td>5</td>\n",
       "    </tr>\n",
       "    <tr>\n",
       "      <th>3</th>\n",
       "      <td>4</td>\n",
       "      <td>3</td>\n",
       "      <td>3</td>\n",
       "      <td>3</td>\n",
       "      <td>4</td>\n",
       "      <td>4</td>\n",
       "      <td>3</td>\n",
       "      <td>2</td>\n",
       "    </tr>\n",
       "    <tr>\n",
       "      <th>4</th>\n",
       "      <td>2</td>\n",
       "      <td>4</td>\n",
       "      <td>4</td>\n",
       "      <td>4</td>\n",
       "      <td>3</td>\n",
       "      <td>4</td>\n",
       "      <td>1</td>\n",
       "      <td>4</td>\n",
       "    </tr>\n",
       "    <tr>\n",
       "      <th>...</th>\n",
       "      <td>...</td>\n",
       "      <td>...</td>\n",
       "      <td>...</td>\n",
       "      <td>...</td>\n",
       "      <td>...</td>\n",
       "      <td>...</td>\n",
       "      <td>...</td>\n",
       "      <td>...</td>\n",
       "    </tr>\n",
       "    <tr>\n",
       "      <th>95</th>\n",
       "      <td>5</td>\n",
       "      <td>1</td>\n",
       "      <td>5</td>\n",
       "      <td>4</td>\n",
       "      <td>4</td>\n",
       "      <td>3</td>\n",
       "      <td>4</td>\n",
       "      <td>5</td>\n",
       "    </tr>\n",
       "    <tr>\n",
       "      <th>96</th>\n",
       "      <td>5</td>\n",
       "      <td>3</td>\n",
       "      <td>4</td>\n",
       "      <td>5</td>\n",
       "      <td>5</td>\n",
       "      <td>4</td>\n",
       "      <td>4</td>\n",
       "      <td>5</td>\n",
       "    </tr>\n",
       "    <tr>\n",
       "      <th>97</th>\n",
       "      <td>2</td>\n",
       "      <td>4</td>\n",
       "      <td>1</td>\n",
       "      <td>5</td>\n",
       "      <td>4</td>\n",
       "      <td>2</td>\n",
       "      <td>3</td>\n",
       "      <td>2</td>\n",
       "    </tr>\n",
       "    <tr>\n",
       "      <th>98</th>\n",
       "      <td>4</td>\n",
       "      <td>5</td>\n",
       "      <td>3</td>\n",
       "      <td>4</td>\n",
       "      <td>4</td>\n",
       "      <td>4</td>\n",
       "      <td>4</td>\n",
       "      <td>4</td>\n",
       "    </tr>\n",
       "    <tr>\n",
       "      <th>99</th>\n",
       "      <td>5</td>\n",
       "      <td>4</td>\n",
       "      <td>4</td>\n",
       "      <td>4</td>\n",
       "      <td>4</td>\n",
       "      <td>4</td>\n",
       "      <td>4</td>\n",
       "      <td>4</td>\n",
       "    </tr>\n",
       "  </tbody>\n",
       "</table>\n",
       "<p>100 rows × 8 columns</p>\n",
       "</div>"
      ],
      "text/plain": [
       "    Bounty  Snickers  Milky Way  Mars  Galaxy Caramel  Twix  Galaxy  \\\n",
       "0        1         4          5     4               5     3       4   \n",
       "1        3         4          4     5               4     4       4   \n",
       "2        5         5          5     4               4     3       5   \n",
       "3        4         3          3     3               4     4       3   \n",
       "4        2         4          4     4               3     4       1   \n",
       "..     ...       ...        ...   ...             ...   ...     ...   \n",
       "95       5         1          5     4               4     3       4   \n",
       "96       5         3          4     5               5     4       4   \n",
       "97       2         4          1     5               4     2       3   \n",
       "98       4         5          3     4               4     4       4   \n",
       "99       5         4          4     4               4     4       4   \n",
       "\n",
       "    Maltesers Teaser  \n",
       "0                  4  \n",
       "1                  5  \n",
       "2                  5  \n",
       "3                  2  \n",
       "4                  4  \n",
       "..               ...  \n",
       "95                 5  \n",
       "96                 5  \n",
       "97                 2  \n",
       "98                 4  \n",
       "99                 4  \n",
       "\n",
       "[100 rows x 8 columns]"
      ]
     },
     "execution_count": 29,
     "metadata": {},
     "output_type": "execute_result"
    }
   ],
   "source": [
    "df = pd.read_csv(\"sweet.csv\")\n",
    "df = df.iloc[:,1:]\n",
    "df"
   ]
  },
  {
   "cell_type": "code",
   "execution_count": 30,
   "metadata": {},
   "outputs": [],
   "source": [
    "item = [\"I dislike them them a lot\", \"I dislike them\", \"Neutrals and Don't Know\", \"I like them\", \"I like them a lot\"]\n",
    "color = [\"red\",\"blue\",\"black\",\"orange\",\"green\"]"
   ]
  },
  {
   "cell_type": "markdown",
   "metadata": {},
   "source": [
    "Data preparation"
   ]
  },
  {
   "cell_type": "code",
   "execution_count": 31,
   "metadata": {},
   "outputs": [
    {
     "name": "stdout",
     "output_type": "stream",
     "text": [
      "The probability:\n"
     ]
    },
    {
     "data": {
      "text/plain": [
       "array([[0.14, 0.09, 0.03, 0.04, 0.02, 0.02, 0.02, 0.01],\n",
       "       [0.11, 0.09, 0.06, 0.07, 0.08, 0.05, 0.04, 0.04],\n",
       "       [0.15, 0.17, 0.23, 0.18, 0.17, 0.19, 0.15, 0.14],\n",
       "       [0.36, 0.42, 0.52, 0.56, 0.46, 0.56, 0.51, 0.42],\n",
       "       [0.24, 0.23, 0.16, 0.15, 0.27, 0.18, 0.28, 0.39]])"
      ]
     },
     "execution_count": 31,
     "metadata": {},
     "output_type": "execute_result"
    }
   ],
   "source": [
    "labels = list(df.columns)\n",
    "data = np.zeros(shape = (5,8),dtype = \"int\")\n",
    "for i in range(len(labels)):\n",
    "    for j in sorted(df[labels[i]].unique()):\n",
    "        data[j - 1][i]= len(df[df[labels[i]] == j])\n",
    "data = data/100\n",
    "print(\"The probability:\")\n",
    "data"
   ]
  },
  {
   "cell_type": "markdown",
   "metadata": {},
   "source": [
    "# Draw the imorve figure"
   ]
  },
  {
   "cell_type": "code",
   "execution_count": 32,
   "metadata": {
    "scrolled": true
   },
   "outputs": [
    {
     "data": {
      "image/png": "[encoded data removed]",
      "text/plain": [
       "<Figure size 1008x300.6 with 5 Axes>"
      ]
     },
     "metadata": {
      "needs_background": "light"
     },
     "output_type": "display_data"
    }
   ],
   "source": [
    "fig, ax = plt.subplots(1,5,figsize = (14,8.35/2))\n",
    "width = 0.35\n",
    "x = np.arange(len(labels))\n",
    "key_la = 0\n",
    "plt.subplots_adjust(left=None, bottom=None, right=None, top=None, wspace=0, hspace=None)\n",
    "for i in range(len(data)):\n",
    "    ax[i].set_xlim(0 - 0.175,8 + 0.175)\n",
    "    ax[4-i].set_title(item[i],loc = 'left',fontsize='12', fontweight='bold', color = color[key_la])\n",
    "    ax[i].spines['top'].set_visible(False)\n",
    "    ax[i].spines['right'].set_visible(False)\n",
    "    ax[i].spines['bottom'].set_visible(False)\n",
    "    \n",
    "    ax[4-i].barh(x, data[i], width, label = item[key_la], color = color[key_la])\n",
    "    j = 0\n",
    "    for per in data[i]:\n",
    "        word = str(round(per*100)) + \"%\"\n",
    "        ax[4-i].text(per, x[j], word, fontdict={'size':15}, color = color[key_la])\n",
    "        j+=1\n",
    "    if i == 0:\n",
    "        ax[i].set_yticks([i for i in range(0,8)])\n",
    "        ax[i].set_yticklabels(labels, fontdict={'size':15})\n",
    "    if i != 0:\n",
    "        ax[i].spines['left'].set_visible(False)\n",
    "        ax[i].set_yticks([])\n",
    "    if i != 4:\n",
    "        ax[i].set_xticks([0,0.25,0.5,0.75,1])\n",
    "        ax[i].set_xticklabels([\"0%\",\"25%\",\"50%\",\"75%\",\"0%\"], alpha = 0.5, fontdict={'size':15})\n",
    "    elif i == 4:\n",
    "        ax[i].set_xticks([0,0.25,0.5,0.75,1])\n",
    "        ax[i].set_xticklabels([\"0%\",\"25%\",\"50%\",\"75%\",\"100%\"],alpha = 0.5, fontdict={'size':15})\n",
    "    ax[i].set_xlim(0,1)\n",
    "    for j in range(1,5):\n",
    "        ax[i].axvline(x=j/4,ls=\"-.\",c=\"gray\",alpha = 0.15)\n",
    "    key_la += 1\n",
    "plt.savefig(\"new.png\")\n",
    "plt.show()"
   ]
  },
  {
   "cell_type": "code",
   "execution_count": null,
   "metadata": {},
   "outputs": [],
   "source": []
  }
 ],
 "metadata": {
  "kernelspec": {
   "display_name": "Python 3",
   "language": "python",
   "name": "python3"
  },
  "language_info": {
   "codemirror_mode": {
    "name": "ipython",
    "version": 3
   },
   "file_extension": ".py",
   "mimetype": "text/x-python",
   "name": "python",
   "nbconvert_exporter": "python",
   "pygments_lexer": "ipython3",
   "version": "3.7.9"
  }
 },
 "nbformat": 4,
 "nbformat_minor": 4
}
