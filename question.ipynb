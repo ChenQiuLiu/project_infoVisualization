{
 "cells": [
  {
   "cell_type": "code",
   "execution_count": 1,
   "metadata": {},
   "outputs": [],
   "source": [
    "# -*- coding: utf-8 -*-\n",
    "import pandas as pd\n",
    "import matplotlib.pyplot as plt\n",
    "import numpy as np\n",
    "from numpy import *\n",
    "import seaborn as sns\n",
    "from mpl_toolkits.axes_grid1.inset_locator import inset_axes\n",
    "from matplotlib.patches import ConnectionPatch\n",
    "\n",
    "data = pd.read_csv(\"./project1_dataset.csv\")"
   ]
  },
  {
   "cell_type": "markdown",
   "metadata": {},
   "source": [
    "Function"
   ]
  },
  {
   "cell_type": "code",
   "execution_count": 5,
   "metadata": {},
   "outputs": [],
   "source": [
    "def dataGeneMLBubble(dataframe, xname, yname, radius = None, mean = False):\n",
    "    \"\"\"\n",
    "    @parameter dataframe: dataframe\n",
    "    @parameter xnmae:     the feature in dataframe\n",
    "    @parameter yname:     the feature in dataframe\n",
    "    @parameter radius:    the feature in dataframe\n",
    "    \"\"\"\n",
    "    result = [[],[],[]]\n",
    "    for i in list(dataframe[xname].value_counts().index):\n",
    "        result[0].append(i)\n",
    "        result[1].append([])\n",
    "        result[2].append([])\n",
    "        key = dataframe[dataframe[xname] == i]\n",
    "        for j in list(key[yname].value_counts().index):\n",
    "            result[1][result[0].index(i)].append(j)\n",
    "            key1 = key[key[yname] == j]\n",
    "            if mean:\n",
    "                result[2][result[0].index(i)].append(np.mean(key1[radius]).round(2))\n",
    "            else:\n",
    "                result[2][result[0].index(i)].append(list(key1[radius].round(2)))\n",
    "    return result\n",
    "def getfirst(ls):\n",
    "    return ls[0]\n",
    "def plotGTwoVar(ax, data,tpe = None ,xlabel = None ,ylabel = None, legend = None, area_annotion = None, area = False):\n",
    "    \"\"\"\n",
    "    @paramter ax: the position where you draw;\n",
    "    @paramter data: \n",
    "    if data have two value: \n",
    "                    the data[0] is a list : The independent variables;\n",
    "                    the data[1] is a list : The dependent variable;\n",
    "    @paramter tpe: which graph tpe you want? scatter(default) or bar?\n",
    "    @paramter xlabel: the label of axis x;\n",
    "    @paramter ylabel: the label of axis y;\n",
    "    @paramter legend: what will you show legend of this graph?\n",
    "    @paramter area: A confidence interval\n",
    "    @paramter area_annotion: The notation of confidence intervals。\n",
    "    \"\"\"\n",
    "    dic = {key:[] for key in set(list(data[0]))}\n",
    "    ls = []\n",
    "    for i in range(len(list(data[0]))):\n",
    "        dic[data[0].iloc[i]].append(data[1].iloc[i])\n",
    "    for i in dic.keys():\n",
    "        if mean(dic[i]) - 3*np.std(dic[i]) < 0:\n",
    "            key = 0\n",
    "        else:\n",
    "            key = mean(dic[i]) - 3*np.std(dic[i])\n",
    "        ls.append((i, mean(dic[i]),mean(dic[i]) + 3*np.std(dic[i]), key))\n",
    "    ls.sort(key = getfirst)\n",
    "    x = [i[0] for i in ls]\n",
    "    y = [i[1] for i in ls]\n",
    "    shadow_up = [i[2] for i in ls]\n",
    "    shadow_down = [i[3] for i in ls]\n",
    "\n",
    "    if area:\n",
    "        for i in range(len(x)):\n",
    "            ax.fill_between(x, shadow_down, shadow_up,alpha = 0.05, color = 'gray')\n",
    "        ax.annotate(area_annotion,\n",
    "                    xy=(x[1], shadow_up[1]),\n",
    "                    xytext=(x[1], shadow_up[1]*1.5),\n",
    "                    xycoords='data',\n",
    "                    arrowprops=dict(facecolor='yellow', shrink=0.05))\n",
    "         \n",
    "    if tpe == None or tpe.lower() == \"scatter\":\n",
    "        for i in range(len(x)):\n",
    "            ax.plot(x[i], y[i], 'o',color = 'r' ,alpha = 0.4)\n",
    "        ax.plot(x, y,label = legend, alpha = 0.7)\n",
    "    elif tpe.lower() == \"bar\":\n",
    "        for i in range(len(x)):\n",
    "            ax.bar(x[i], y[i], alpha = 0.4)\n",
    "    \n",
    "\n",
    "    ax.set_ylim(0)\n",
    "    if ax.set_ylim()[1] <max(y):\n",
    "        ax.set_ylim(ymin = 0,ymax = (max(y) + 0.2*max(y)))\n",
    "    ax.set_xlabel(xlabel)\n",
    "    ax.set_ylabel(ylabel)\n",
    "    if legend != None:\n",
    "        ax.legend()\n",
    "    ax.spines['top'].set_visible(False)\n",
    "    ax.spines['right'].set_visible(False)\n",
    "    \n",
    "    \n",
    "def bubbleG(ax, data, xlabel = None, ylabel = None, anno_max_and_min = True, title = None):\n",
    "    \"\"\"\n",
    "    @para ax: the position where you draw;\n",
    "    @para data: three value:\n",
    "                            data[0]: x\n",
    "                            data[1]: y\n",
    "                            data[2]: radius\n",
    "                            example about data: [ [            \"SVM\"              ,           \"GNB\"            ],\n",
    "                                                  [ [\"float 64\"  ,  \"int 32\"]     ,[ \"float 64\"  , \"int 32\"]   ], \n",
    "                                                  [ [[6] ,  [4,7,8,9,3 ]] ,[ [5,5,7,9,6] , [4,7,8,9,3  ]]] \n",
    "                                                ]\n",
    "    @xlabel: x label\n",
    "    @ylabel: y label\n",
    "    \"\"\"\n",
    "    key_max = 0\n",
    "    key_min = 0\n",
    "    colors = np.random.rand(len(data[0])) \n",
    "    for i in range(len(data[0])):\n",
    "        for j in range(len(data[1][i])):\n",
    "            if data[2][i][j] == max(data[2][i]) and ( anno_max_and_min):\n",
    "                if key_max == 0:\n",
    "                    axn = ax.scatter(data[1][i][j],data[0][i],s=data[2][i][j]*200,alpha=0.7,c = \"red\", label = \"max\")\n",
    "                    key_max +=1\n",
    "                else:\n",
    "                    axn = ax.scatter(data[1][i][j],data[0][i],s=data[2][i][j]*200,alpha=0.7,c = \"red\")\n",
    "            elif data[2][i][j] == min(data[2][i]) and ( anno_max_and_min):\n",
    "                if key_min == 0:\n",
    "                    axn = ax.scatter(data[1][i][j],data[0][i],s=data[2][i][j]*200,alpha=0.7,c = \"green\", label = \"min\")\n",
    "                    key_min +=1\n",
    "                else:\n",
    "                    axn = ax.scatter(data[1][i][j],data[0][i],s=data[2][i][j]*200,alpha=0.7,c = \"green\")\n",
    "            else:\n",
    "                axn = ax.scatter(data[1][i][j],data[0][i],s=data[2][i][j]*200,alpha=0.7,c = \"blue\")\n",
    "    ax.set_xlabel(xlabel)\n",
    "    ax.set_ylabel(ylabel)\n",
    "    ax.set_xlim(xmin = -0.5, xmax = len(data[1][0]) + 1)\n",
    "    ax.set_ylim(ymin = -0.5, ymax = len(data[2][1]) + 0.5)\n",
    "    ax.spines['top'].set_visible(False)\n",
    "    ax.spines['right'].set_visible(False)\n",
    "    plt.xticks(fontproperties = 'Times New Roman', size = 10)\n",
    "    plt.yticks(fontproperties = 'Times New Roman', size = 10)\n",
    "    ax.legend(loc = \"lower right\",markerscale = 0.1,framealpha = 0.2)\n",
    "    if title != None:\n",
    "        ax.set_title(title)\n"
   ]
  },
  {
   "cell_type": "code",
   "execution_count": 6,
   "metadata": {},
   "outputs": [
    {
     "name": "stdout",
     "output_type": "stream",
     "text": [
      "<class 'pandas.core.frame.DataFrame'>\n",
      "RangeIndex: 770 entries, 0 to 769\n",
      "Data columns (total 17 columns):\n",
      " #   Column                   Non-Null Count  Dtype  \n",
      "---  ------                   --------------  -----  \n",
      " 0   algorithm                770 non-null    object \n",
      " 1   RQ                       770 non-null    float64\n",
      " 2   experiment_id            770 non-null    int64  \n",
      " 3   iteration                770 non-null    int64  \n",
      " 4   no_datapoints            770 non-null    int64  \n",
      " 5   no_features              770 non-null    int64  \n",
      " 6   preprocessing_energy(J)  770 non-null    float64\n",
      " 7   preprocessing_time(s)    770 non-null    float64\n",
      " 8   train_energy(J)          770 non-null    float64\n",
      " 9   train_time(s)            770 non-null    float64\n",
      " 10  predict_energy(J)        770 non-null    float64\n",
      " 11  predict_time(s)          770 non-null    float64\n",
      " 12  datatype                 770 non-null    object \n",
      " 13  accuracy                 770 non-null    float64\n",
      " 14  precision                770 non-null    float64\n",
      " 15  recall                   770 non-null    float64\n",
      " 16  f1                       770 non-null    float64\n",
      "dtypes: float64(11), int64(4), object(2)\n",
      "memory usage: 102.4+ KB\n"
     ]
    }
   ],
   "source": [
    "data = pd.read_csv(\"./project1_dataset.csv\")\n",
    "data.info()#没有缺失值，所以跳过数据清洗步骤"
   ]
  },
  {
   "cell_type": "markdown",
   "metadata": {},
   "source": [
    "第二题"
   ]
  },
  {
   "cell_type": "code",
   "execution_count": 7,
   "metadata": {},
   "outputs": [
    {
     "data": {
      "image/png": "[encoded data removed]",
      "text/plain": [
       "<Figure size 360x360 with 1 Axes>"
      ]
     },
     "metadata": {
      "needs_background": "light"
     },
     "output_type": "display_data"
    }
   ],
   "source": [
    "#Data preparation\n",
    "df21 = data[data[\"algorithm\"] == \"SVM\"]\n",
    "fig, ax = plt.subplots(1,1,figsize = (5,5))\n",
    "a = df21[\"no_features\"][data[\"RQ\"] == 2.2]\n",
    "b = df21[\"train_energy(J)\"][data[\"RQ\"] == 2.2]\n",
    "plotGTwoVar(ax, [a, b] ,xlabel = 'SVM_no_features', ylabel = 'SVM_train_eneigy', legend = 'Average broken line for every five experiments', area = True, area_annotion = \"confidence interval: 99%\")"
   ]
  },
  {
   "cell_type": "markdown",
   "metadata": {},
   "source": [
    "第三题"
   ]
  },
  {
   "cell_type": "code",
   "execution_count": null,
   "metadata": {},
   "outputs": [],
   "source": [
    "def "
   ]
  }
 ],
 "metadata": {
  "kernelspec": {
   "display_name": "Python 3",
   "language": "python",
   "name": "python3"
  },
  "language_info": {
   "codemirror_mode": {
    "name": "ipython",
    "version": 3
   },
   "file_extension": ".py",
   "mimetype": "text/x-python",
   "name": "python",
   "nbconvert_exporter": "python",
   "pygments_lexer": "ipython3",
   "version": "3.7.9"
  }
 },
 "nbformat": 4,
 "nbformat_minor": 4
}
